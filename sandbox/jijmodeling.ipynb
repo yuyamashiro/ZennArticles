{
 "cells": [
  {
   "cell_type": "code",
   "execution_count": 1,
   "metadata": {},
   "outputs": [],
   "source": [
    "import jijmodeling as jm"
   ]
  },
  {
   "cell_type": "code",
   "execution_count": 2,
   "metadata": {},
   "outputs": [
    {
     "data": {
      "text/latex": [
       "$$\\begin{array}{cccc}\\text{Problem:} & \\text{shift\\_optimization} & & \\\\& & \\min \\quad \\displaystyle \\sum_{d = 0}^{D - 1} \\sum_{t = 0}^{T - 1} \\sum_{i = 0}^{N - 1} x_{d, t, i} & \\\\\\text{{s.t.}} & & & \\\\ & \\text{demand} & \\displaystyle \\sum_{\\ast_{2} = 0}^{N - 1} x_{d, t, \\ast_{2}} \\geq R_{d, t} & \\forall d \\in \\left\\{0,\\ldots,D - 1\\right\\} \\forall t \\in \\left\\{0,\\ldots,T - 1\\right\\} \\\\ & \\text{request} & \\displaystyle x_{d, t, i} = 0 & \\forall d \\in \\left\\{0,\\ldots,D - 1\\right\\} \\forall t \\in \\left\\{0,\\ldots,T - 1\\right\\} \\forall i \\in \\left\\{i \\in \\left\\{0,\\ldots,N - 1\\right\\} \\mid H_{d, t, i} = 0 \\right\\} \\\\\\text{{where}} & & & \\\\& x & 3\\text{-dim binary variable}\\\\\\end{array}$$"
      ],
      "text/plain": [
       "<jijmodeling.Problem at 0x1031a1b20>"
      ]
     },
     "execution_count": 2,
     "metadata": {},
     "output_type": "execute_result"
    }
   ],
   "source": [
    "# シフト最適化の数理モデル\n",
    "\n",
    "# シフト希望表\n",
    "# 1: シフトを希望する\n",
    "# 0: シフトを希望しない\n",
    "H = jm.Placeholder(\"H\", ndim=3)\n",
    "\n",
    "# シフトを組む日数 D, 時間分割数 T, 人数 Ns\n",
    "D = H.len_at(0, latex=\"D\")\n",
    "T = H.len_at(1, latex=\"T\")\n",
    "N = H.len_at(2, latex=\"N\")\n",
    "\n",
    "# 必要人数\n",
    "R = jm.Placeholder(\"R\", ndim=2)\n",
    "\n",
    "# シフト表\n",
    "# 1: シフトを組む\n",
    "# 0: シフトを組まない\n",
    "x = jm.BinaryVar(\"x\", shape=(D, T, N))\n",
    "\n",
    "\n",
    "problem = jm.Problem(name=\"shift_optimization\")\n",
    "\n",
    "# 必要人数を満たす制約\n",
    "d = jm.Element(\"d\", belong_to=(0, D))\n",
    "t = jm.Element(\"t\", belong_to=(0, T))\n",
    "problem += jm.Constraint(\"demand\", x[d, t, :].sum() >= R[d, t], forall=[d, t])\n",
    "\n",
    "# # 夜勤 (t=T-1) の次の日は休みを取る制約\n",
    "i = jm.Element(\"i\", belong_to=(0, N))\n",
    "# problem += jm.Constraint(\"night_shift\", x[d+1, t, i] <= x[d, T-1, i], forall=[(d, d < D-1), t, i])\n",
    "\n",
    "# シフトを希望しない場合はシフトを組まない制約\n",
    "problem += jm.Constraint(\"request\", x[d, t, i] == 0, forall=[d, t, (i, H[d, t, i] == 0)])\n",
    "\n",
    "# 目的関数 必要人数の最小化\n",
    "problem += jm.sum([d, t, i], x[d, t, i])\n",
    "\n",
    "problem"
   ]
  },
  {
   "cell_type": "code",
   "execution_count": 3,
   "metadata": {},
   "outputs": [],
   "source": [
    "# データの用意\n",
    "import numpy as np\n",
    "\n",
    "def create_data(D, T, N):\n",
    "    H = np.random.randint(0, 2, (D, T, N))\n",
    "    R = np.random.randint(0, 3, (D, T))\n",
    "    # 必要人数を満たすための最小人数になるように調整\n",
    "    R = np.minimum(R, np.sum(H, axis=2))\n",
    "    return {\n",
    "        \"H\": H,\n",
    "        \"R\": R\n",
    "    }"
   ]
  },
  {
   "cell_type": "code",
   "execution_count": 4,
   "metadata": {},
   "outputs": [],
   "source": [
    "num_days = 3\n",
    "num_times = 3\n",
    "num_people = 2\n",
    "\n",
    "data = create_data(num_days, num_times, num_people)\n",
    "interpreter = jm.Interpreter(data)\n",
    "\n",
    "instance = interpreter.eval_problem(problem)"
   ]
  },
  {
   "cell_type": "code",
   "execution_count": 5,
   "metadata": {},
   "outputs": [],
   "source": [
    "import ommx_pyscipopt_adapter as ompc"
   ]
  },
  {
   "cell_type": "code",
   "execution_count": 6,
   "metadata": {},
   "outputs": [],
   "source": [
    "model = ompc.instance_to_model(instance)"
   ]
  },
  {
   "cell_type": "code",
   "execution_count": 7,
   "metadata": {},
   "outputs": [
    {
     "data": {
      "text/plain": [
       "'optimal'"
      ]
     },
     "execution_count": 7,
     "metadata": {},
     "output_type": "execute_result"
    }
   ],
   "source": [
    "model.optimize()\n",
    "model.getStatus()"
   ]
  },
  {
   "cell_type": "code",
   "execution_count": 8,
   "metadata": {},
   "outputs": [],
   "source": [
    "solution = ompc.model_to_solution(model, instance)"
   ]
  },
  {
   "cell_type": "code",
   "execution_count": 45,
   "metadata": {},
   "outputs": [],
   "source": [
    "values = solution.raw.state.entries\n",
    "deci_vars = {}\n",
    "for variable in solution.raw.decision_variables:\n",
    "    if variable.name not in deci_vars:\n",
    "        deci_vars[variable.name] = {}\n",
    "    deci_vars[variable.name][tuple(variable.subscripts)] = values[variable.id]\n"
   ]
  },
  {
   "cell_type": "code",
   "execution_count": 46,
   "metadata": {},
   "outputs": [
    {
     "data": {
      "text/plain": [
       "{'x': {(0, 0, 0): 1.0,\n",
       "  (0, 0, 1): 0.0,\n",
       "  (0, 1, 0): 1.0,\n",
       "  (0, 1, 1): 0.0,\n",
       "  (0, 2, 0): 0.0,\n",
       "  (0, 2, 1): 1.0,\n",
       "  (1, 0, 0): 0.0,\n",
       "  (1, 0, 1): 1.0,\n",
       "  (1, 1, 0): 0.0,\n",
       "  (1, 1, 1): 0.0,\n",
       "  (1, 2, 0): 0.0,\n",
       "  (1, 2, 1): 0.0,\n",
       "  (2, 0, 0): 1.0,\n",
       "  (2, 0, 1): 0.0,\n",
       "  (2, 1, 0): 1.0,\n",
       "  (2, 1, 1): 0.0,\n",
       "  (2, 2, 0): 0.0,\n",
       "  (2, 2, 1): 1.0}}"
      ]
     },
     "execution_count": 46,
     "metadata": {},
     "output_type": "execute_result"
    }
   ],
   "source": [
    "deci_vars"
   ]
  },
  {
   "cell_type": "code",
   "execution_count": null,
   "metadata": {},
   "outputs": [],
   "source": []
  }
 ],
 "metadata": {
  "kernelspec": {
   "display_name": "3.10.13",
   "language": "python",
   "name": "python3"
  },
  "language_info": {
   "codemirror_mode": {
    "name": "ipython",
    "version": 3
   },
   "file_extension": ".py",
   "mimetype": "text/x-python",
   "name": "python",
   "nbconvert_exporter": "python",
   "pygments_lexer": "ipython3",
   "version": "3.10.13"
  }
 },
 "nbformat": 4,
 "nbformat_minor": 2
}
